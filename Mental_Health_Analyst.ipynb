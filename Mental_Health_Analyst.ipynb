{
  "nbformat": 4,
  "nbformat_minor": 0,
  "metadata": {
    "colab": {
      "name": "Mental Health Analyst",
      "provenance": [],
      "collapsed_sections": [],
      "toc_visible": true,
      "authorship_tag": "ABX9TyMJ6nAlynmDJnWcI4r99oo+",
      "include_colab_link": true
    },
    "kernelspec": {
      "name": "python3",
      "display_name": "Python 3"
    },
    "widgets": {
      "application/vnd.jupyter.widget-state+json": {
        "c52fa914af0344da90d7fa498e756c30": {
          "model_module": "@jupyter-widgets/controls",
          "model_name": "HBoxModel",
          "state": {
            "_view_name": "HBoxView",
            "_dom_classes": [],
            "_model_name": "HBoxModel",
            "_view_module": "@jupyter-widgets/controls",
            "_model_module_version": "1.5.0",
            "_view_count": null,
            "_view_module_version": "1.5.0",
            "box_style": "",
            "layout": "IPY_MODEL_f74818354f354b57954fea2ad170cc17",
            "_model_module": "@jupyter-widgets/controls",
            "children": [
              "IPY_MODEL_fd51af58af824b919c3663cb267541e5",
              "IPY_MODEL_62ac81ef96e046fc8de17b5697fa5c53"
            ]
          }
        },
        "f74818354f354b57954fea2ad170cc17": {
          "model_module": "@jupyter-widgets/base",
          "model_name": "LayoutModel",
          "state": {
            "_view_name": "LayoutView",
            "grid_template_rows": null,
            "right": null,
            "justify_content": null,
            "_view_module": "@jupyter-widgets/base",
            "overflow": null,
            "_model_module_version": "1.2.0",
            "_view_count": null,
            "flex_flow": null,
            "width": null,
            "min_width": null,
            "border": null,
            "align_items": null,
            "bottom": null,
            "_model_module": "@jupyter-widgets/base",
            "top": null,
            "grid_column": null,
            "overflow_y": null,
            "overflow_x": null,
            "grid_auto_flow": null,
            "grid_area": null,
            "grid_template_columns": null,
            "flex": null,
            "_model_name": "LayoutModel",
            "justify_items": null,
            "grid_row": null,
            "max_height": null,
            "align_content": null,
            "visibility": null,
            "align_self": null,
            "height": null,
            "min_height": null,
            "padding": null,
            "grid_auto_rows": null,
            "grid_gap": null,
            "max_width": null,
            "order": null,
            "_view_module_version": "1.2.0",
            "grid_template_areas": null,
            "object_position": null,
            "object_fit": null,
            "grid_auto_columns": null,
            "margin": null,
            "display": null,
            "left": null
          }
        },
        "fd51af58af824b919c3663cb267541e5": {
          "model_module": "@jupyter-widgets/controls",
          "model_name": "IntProgressModel",
          "state": {
            "_view_name": "ProgressView",
            "style": "IPY_MODEL_517f7f4c542f457785813c1bb4bbf374",
            "_dom_classes": [],
            "description": "Downloading",
            "_model_name": "IntProgressModel",
            "bar_style": "success",
            "max": 231508,
            "_view_module": "@jupyter-widgets/controls",
            "_model_module_version": "1.5.0",
            "value": 231508,
            "_view_count": null,
            "_view_module_version": "1.5.0",
            "orientation": "horizontal",
            "min": 0,
            "description_tooltip": null,
            "_model_module": "@jupyter-widgets/controls",
            "layout": "IPY_MODEL_c8c9e4f267be4fd7a363c8f11ae2f636"
          }
        },
        "62ac81ef96e046fc8de17b5697fa5c53": {
          "model_module": "@jupyter-widgets/controls",
          "model_name": "HTMLModel",
          "state": {
            "_view_name": "HTMLView",
            "style": "IPY_MODEL_0b568aa79d3f4f8f9e49b2592ef16f00",
            "_dom_classes": [],
            "description": "",
            "_model_name": "HTMLModel",
            "placeholder": "​",
            "_view_module": "@jupyter-widgets/controls",
            "_model_module_version": "1.5.0",
            "value": "100% 232k/232k [00:00&lt;00:00, 889kB/s]",
            "_view_count": null,
            "_view_module_version": "1.5.0",
            "description_tooltip": null,
            "_model_module": "@jupyter-widgets/controls",
            "layout": "IPY_MODEL_8450546701134230aa9143c1fe88a1cc"
          }
        },
        "517f7f4c542f457785813c1bb4bbf374": {
          "model_module": "@jupyter-widgets/controls",
          "model_name": "ProgressStyleModel",
          "state": {
            "_view_name": "StyleView",
            "_model_name": "ProgressStyleModel",
            "description_width": "initial",
            "_view_module": "@jupyter-widgets/base",
            "_model_module_version": "1.5.0",
            "_view_count": null,
            "_view_module_version": "1.2.0",
            "bar_color": null,
            "_model_module": "@jupyter-widgets/controls"
          }
        },
        "c8c9e4f267be4fd7a363c8f11ae2f636": {
          "model_module": "@jupyter-widgets/base",
          "model_name": "LayoutModel",
          "state": {
            "_view_name": "LayoutView",
            "grid_template_rows": null,
            "right": null,
            "justify_content": null,
            "_view_module": "@jupyter-widgets/base",
            "overflow": null,
            "_model_module_version": "1.2.0",
            "_view_count": null,
            "flex_flow": null,
            "width": null,
            "min_width": null,
            "border": null,
            "align_items": null,
            "bottom": null,
            "_model_module": "@jupyter-widgets/base",
            "top": null,
            "grid_column": null,
            "overflow_y": null,
            "overflow_x": null,
            "grid_auto_flow": null,
            "grid_area": null,
            "grid_template_columns": null,
            "flex": null,
            "_model_name": "LayoutModel",
            "justify_items": null,
            "grid_row": null,
            "max_height": null,
            "align_content": null,
            "visibility": null,
            "align_self": null,
            "height": null,
            "min_height": null,
            "padding": null,
            "grid_auto_rows": null,
            "grid_gap": null,
            "max_width": null,
            "order": null,
            "_view_module_version": "1.2.0",
            "grid_template_areas": null,
            "object_position": null,
            "object_fit": null,
            "grid_auto_columns": null,
            "margin": null,
            "display": null,
            "left": null
          }
        },
        "0b568aa79d3f4f8f9e49b2592ef16f00": {
          "model_module": "@jupyter-widgets/controls",
          "model_name": "DescriptionStyleModel",
          "state": {
            "_view_name": "StyleView",
            "_model_name": "DescriptionStyleModel",
            "description_width": "",
            "_view_module": "@jupyter-widgets/base",
            "_model_module_version": "1.5.0",
            "_view_count": null,
            "_view_module_version": "1.2.0",
            "_model_module": "@jupyter-widgets/controls"
          }
        },
        "8450546701134230aa9143c1fe88a1cc": {
          "model_module": "@jupyter-widgets/base",
          "model_name": "LayoutModel",
          "state": {
            "_view_name": "LayoutView",
            "grid_template_rows": null,
            "right": null,
            "justify_content": null,
            "_view_module": "@jupyter-widgets/base",
            "overflow": null,
            "_model_module_version": "1.2.0",
            "_view_count": null,
            "flex_flow": null,
            "width": null,
            "min_width": null,
            "border": null,
            "align_items": null,
            "bottom": null,
            "_model_module": "@jupyter-widgets/base",
            "top": null,
            "grid_column": null,
            "overflow_y": null,
            "overflow_x": null,
            "grid_auto_flow": null,
            "grid_area": null,
            "grid_template_columns": null,
            "flex": null,
            "_model_name": "LayoutModel",
            "justify_items": null,
            "grid_row": null,
            "max_height": null,
            "align_content": null,
            "visibility": null,
            "align_self": null,
            "height": null,
            "min_height": null,
            "padding": null,
            "grid_auto_rows": null,
            "grid_gap": null,
            "max_width": null,
            "order": null,
            "_view_module_version": "1.2.0",
            "grid_template_areas": null,
            "object_position": null,
            "object_fit": null,
            "grid_auto_columns": null,
            "margin": null,
            "display": null,
            "left": null
          }
        }
      }
    },
    "accelerator": "GPU"
  },
  "cells": [
    {
      "cell_type": "markdown",
      "metadata": {
        "id": "view-in-github",
        "colab_type": "text"
      },
      "source": [
        "<a href=\"https://colab.research.google.com/github/IvanRossCousins/Angular.js/blob/master/Mental_Health_Analyst.ipynb\" target=\"_parent\"><img src=\"https://colab.research.google.com/assets/colab-badge.svg\" alt=\"Open In Colab\"/></a>"
      ]
    },
    {
      "cell_type": "code",
      "metadata": {
        "id": "NAKEDmVAvbQw",
        "colab_type": "code",
        "colab": {}
      },
      "source": [
        "##  Export State of The System  ##"
      ],
      "execution_count": 0,
      "outputs": []
    },
    {
      "cell_type": "code",
      "metadata": {
        "id": "b4TUOe-HvSG1",
        "colab_type": "code",
        "colab": {
          "base_uri": "https://localhost:8080/",
          "height": 697
        },
        "outputId": "fda6da3a-c769-4a16-a631-46f4add5d01d"
      },
      "source": [
        "!zip -r /content/state.zip /content"
      ],
      "execution_count": 4,
      "outputs": [
        {
          "output_type": "stream",
          "text": [
            "  adding: content/ (stored 0%)\n",
            "  adding: content/.config/ (stored 0%)\n",
            "  adding: content/.config/logs/ (stored 0%)\n",
            "  adding: content/.config/logs/2020.02.05/ (stored 0%)\n",
            "  adding: content/.config/logs/2020.02.05/18.36.45.012839.log (deflated 85%)\n",
            "  adding: content/.config/logs/2020.02.05/18.36.32.968039.log (deflated 54%)\n",
            "  adding: content/.config/logs/2020.02.05/18.37.02.083241.log (deflated 54%)\n",
            "  adding: content/.config/logs/2020.02.05/18.37.01.637056.log (deflated 54%)\n",
            "  adding: content/.config/logs/2020.02.05/18.36.15.774867.log (deflated 91%)\n",
            "  adding: content/.config/logs/2020.02.05/18.36.48.819796.log (deflated 53%)\n",
            "  adding: content/.config/logs/2020.02.19/ (stored 0%)\n",
            "  adding: content/.config/logs/2020.02.19/09.14.59.170214.log (deflated 56%)\n",
            "  adding: content/.config/active_config (stored 0%)\n",
            "  adding: content/.config/config_sentinel (stored 0%)\n",
            "  adding: content/.config/.last_update_check.json (deflated 21%)\n",
            "  adding: content/.config/configurations/ (stored 0%)\n",
            "  adding: content/.config/configurations/config_default (deflated 17%)\n",
            "  adding: content/.config/gce (stored 0%)\n",
            "  adding: content/.config/.last_survey_prompt.yaml (stored 0%)\n",
            "  adding: content/.config/legacy_credentials/ (stored 0%)\n",
            "  adding: content/.config/legacy_credentials/ivanross1998@gmail.com/ (stored 0%)\n",
            "  adding: content/.config/legacy_credentials/ivanross1998@gmail.com/adc.json (deflated 15%)\n",
            "  adding: content/.config/legacy_credentials/ivanross1998@gmail.com/.boto (deflated 11%)\n",
            "  adding: content/.config/access_tokens.db (deflated 91%)\n",
            "  adding: content/.config/credentials.db (deflated 87%)\n",
            "  adding: content/.config/.metricsUUID (stored 0%)\n",
            "  adding: content/testing_data_dataframe.csv (deflated 62%)\n",
            "  adding: content/adc.json (deflated 49%)\n",
            "  adding: content/Sentiment140Training.csv (deflated 64%)\n",
            "  adding: content/training_data_dataframe.csv (deflated 64%)\n",
            "  adding: content/Sentiment140Testing.csv (deflated 59%)\n",
            "  adding: content/training_data_dataframe (deflated 64%)\n",
            "  adding: content/testing_data_dataframe (deflated 62%)\n",
            "  adding: content/sample_data/ (stored 0%)\n",
            "  adding: content/sample_data/README.md (deflated 42%)\n",
            "  adding: content/sample_data/anscombe.json (deflated 83%)\n",
            "  adding: content/sample_data/mnist_train_small.csv (deflated 88%)\n",
            "  adding: content/sample_data/california_housing_train.csv (deflated 79%)\n",
            "  adding: content/sample_data/california_housing_test.csv (deflated 76%)\n",
            "  adding: content/sample_data/mnist_test.csv (deflated 88%)\n"
          ],
          "name": "stdout"
        }
      ]
    },
    {
      "cell_type": "code",
      "metadata": {
        "id": "b9G6XMFnvT4h",
        "colab_type": "code",
        "colab": {
          "base_uri": "https://localhost:8080/",
          "height": 442
        },
        "outputId": "3b88ceea-d54e-4996-8f0d-dbc83c3bef26"
      },
      "source": [
        "from google.colab import files\n",
        "files.download(\"/content/state.zip\")"
      ],
      "execution_count": 5,
      "outputs": [
        {
          "output_type": "stream",
          "text": [
            "----------------------------------------\n",
            "Exception happened during processing of request from ('::ffff:127.0.0.1', 43810, 0, 0)\n",
            "Traceback (most recent call last):\n",
            "  File \"/usr/lib/python3.6/socketserver.py\", line 320, in _handle_request_noblock\n",
            "    self.process_request(request, client_address)\n",
            "  File \"/usr/lib/python3.6/socketserver.py\", line 351, in process_request\n",
            "    self.finish_request(request, client_address)\n",
            "  File \"/usr/lib/python3.6/socketserver.py\", line 364, in finish_request\n",
            "    self.RequestHandlerClass(request, client_address, self)\n",
            "  File \"/usr/lib/python3.6/socketserver.py\", line 724, in __init__\n",
            "    self.handle()\n",
            "  File \"/usr/lib/python3.6/http/server.py\", line 418, in handle\n",
            "    self.handle_one_request()\n",
            "  File \"/usr/lib/python3.6/http/server.py\", line 406, in handle_one_request\n",
            "    method()\n",
            "  File \"/usr/lib/python3.6/http/server.py\", line 639, in do_GET\n",
            "    self.copyfile(f, self.wfile)\n",
            "  File \"/usr/lib/python3.6/http/server.py\", line 800, in copyfile\n",
            "    shutil.copyfileobj(source, outputfile)\n",
            "  File \"/usr/lib/python3.6/shutil.py\", line 82, in copyfileobj\n",
            "    fdst.write(buf)\n",
            "  File \"/usr/lib/python3.6/socketserver.py\", line 803, in write\n",
            "    self._sock.sendall(b)\n",
            "ConnectionResetError: [Errno 104] Connection reset by peer\n",
            "----------------------------------------\n"
          ],
          "name": "stderr"
        }
      ]
    },
    {
      "cell_type": "code",
      "metadata": {
        "id": "MIk1Npuhvkfj",
        "colab_type": "code",
        "colab": {}
      },
      "source": [
        "##  Start of Data Import  ##"
      ],
      "execution_count": 0,
      "outputs": []
    },
    {
      "cell_type": "code",
      "metadata": {
        "id": "P_hJ_SGJUITD",
        "colab_type": "code",
        "outputId": "e7df2e51-6bc4-45bd-ea80-5e5e661d5069",
        "colab": {
          "base_uri": "https://localhost:8080/",
          "height": 238
        }
      },
      "source": [
        "# WandB – Install the W&B library\n",
        "!pip install wandb -q"
      ],
      "execution_count": 2,
      "outputs": [
        {
          "output_type": "stream",
          "text": [
            "\u001b[K     |████████████████████████████████| 1.4MB 9.2MB/s \n",
            "\u001b[K     |████████████████████████████████| 102kB 12.4MB/s \n",
            "\u001b[K     |████████████████████████████████| 460kB 63.5MB/s \n",
            "\u001b[K     |████████████████████████████████| 102kB 15.7MB/s \n",
            "\u001b[K     |████████████████████████████████| 102kB 13.8MB/s \n",
            "\u001b[K     |████████████████████████████████| 71kB 12.3MB/s \n",
            "\u001b[K     |████████████████████████████████| 71kB 9.9MB/s \n",
            "\u001b[?25h  Building wheel for gql (setup.py) ... \u001b[?25l\u001b[?25hdone\n",
            "  Building wheel for watchdog (setup.py) ... \u001b[?25l\u001b[?25hdone\n",
            "  Building wheel for shortuuid (setup.py) ... \u001b[?25l\u001b[?25hdone\n",
            "  Building wheel for subprocess32 (setup.py) ... \u001b[?25l\u001b[?25hdone\n",
            "  Building wheel for graphql-core (setup.py) ... \u001b[?25l\u001b[?25hdone\n",
            "  Building wheel for pathtools (setup.py) ... \u001b[?25l\u001b[?25hdone\n"
          ],
          "name": "stdout"
        }
      ]
    },
    {
      "cell_type": "code",
      "metadata": {
        "id": "dJWYC8XAUQvG",
        "colab_type": "code",
        "colab": {}
      },
      "source": [
        "# Code to read csv file into Colaboratory:\n",
        "!pip install -U -q PyDrive\n",
        "from pydrive.auth import GoogleAuth\n",
        "from pydrive.drive import GoogleDrive\n",
        "from google.colab import auth\n",
        "from oauth2client.client import GoogleCredentials\n",
        "\n",
        "# Authenticate and create the PyDrive client.\n",
        "auth.authenticate_user()\n",
        "gauth = GoogleAuth()\n",
        "gauth.credentials = GoogleCredentials.get_application_default()\n",
        "drive = GoogleDrive(gauth)"
      ],
      "execution_count": 0,
      "outputs": []
    },
    {
      "cell_type": "code",
      "metadata": {
        "id": "J8HcG98tUWLV",
        "colab_type": "code",
        "colab": {}
      },
      "source": [
        "training_link = 'https://drive.google.com/open?id=1xh4UXj6wDYTB3OlHdtJh-8rKd42VMlnY'\n",
        "testing_link = 'https://drive.google.com/open?id=1rkyIPV7Tr226h5vaEXEe8WaUmHnw88M1'\n",
        "\n",
        "training_fluff, training_id = training_link.split('=')\n",
        "testing_fluff, testing_id = testing_link.split('=')"
      ],
      "execution_count": 0,
      "outputs": []
    },
    {
      "cell_type": "code",
      "metadata": {
        "id": "AtI0z1NHUW_Y",
        "colab_type": "code",
        "outputId": "932dafe6-7c2e-4735-d3cd-aa222319be5e",
        "colab": {
          "base_uri": "https://localhost:8080/",
          "height": 102
        }
      },
      "source": [
        "!pip install pandas\n",
        "\n",
        "import pandas as pd"
      ],
      "execution_count": 5,
      "outputs": [
        {
          "output_type": "stream",
          "text": [
            "Requirement already satisfied: pandas in /usr/local/lib/python3.6/dist-packages (0.25.3)\n",
            "Requirement already satisfied: numpy>=1.13.3 in /usr/local/lib/python3.6/dist-packages (from pandas) (1.17.5)\n",
            "Requirement already satisfied: python-dateutil>=2.6.1 in /usr/local/lib/python3.6/dist-packages (from pandas) (2.6.1)\n",
            "Requirement already satisfied: pytz>=2017.2 in /usr/local/lib/python3.6/dist-packages (from pandas) (2018.9)\n",
            "Requirement already satisfied: six>=1.5 in /usr/local/lib/python3.6/dist-packages (from python-dateutil>=2.6.1->pandas) (1.12.0)\n"
          ],
          "name": "stdout"
        }
      ]
    },
    {
      "cell_type": "code",
      "metadata": {
        "id": "YEqjgJ0IUgSV",
        "colab_type": "code",
        "colab": {}
      },
      "source": [
        "training_downloaded = drive.CreateFile({'id':training_id}) \n",
        "training_downloaded.GetContentFile('Sentiment140Training.csv')\n",
        "testing_downloaded = drive.CreateFile({'id':testing_id}) \n",
        "testing_downloaded.GetContentFile('Sentiment140Testing.csv')"
      ],
      "execution_count": 0,
      "outputs": []
    },
    {
      "cell_type": "code",
      "metadata": {
        "id": "yQ6VHlbuUgyt",
        "colab_type": "code",
        "colab": {}
      },
      "source": [
        "training_data_dataframe = pd.read_csv('Sentiment140Training.csv', encoding='latin1', header=None)\n",
        "testing_data_dataframe = pd.read_csv('Sentiment140Testing.csv', encoding='latin1', header=None)"
      ],
      "execution_count": 0,
      "outputs": []
    },
    {
      "cell_type": "code",
      "metadata": {
        "id": "uZ7c2fN5nuJK",
        "colab_type": "code",
        "outputId": "eeb98124-f634-4e5a-e00a-9474a40da1c1",
        "colab": {
          "base_uri": "https://localhost:8080/",
          "height": 758,
          "referenced_widgets": [
            "c52fa914af0344da90d7fa498e756c30",
            "f74818354f354b57954fea2ad170cc17",
            "fd51af58af824b919c3663cb267541e5",
            "62ac81ef96e046fc8de17b5697fa5c53",
            "517f7f4c542f457785813c1bb4bbf374",
            "c8c9e4f267be4fd7a363c8f11ae2f636",
            "0b568aa79d3f4f8f9e49b2592ef16f00",
            "8450546701134230aa9143c1fe88a1cc"
          ]
        }
      },
      "source": [
        "!pip install transformers\n",
        "\n",
        "from transformers import BertTokenizer\n",
        "\n",
        "# Load the BERT tokenizer.\n",
        "print('Loading BERT tokenizer...')\n",
        "tokenizer = BertTokenizer.from_pretrained('bert-base-uncased', do_lower_case=True)"
      ],
      "execution_count": 8,
      "outputs": [
        {
          "output_type": "stream",
          "text": [
            "Collecting transformers\n",
            "\u001b[?25l  Downloading https://files.pythonhosted.org/packages/ee/fc/bd726a15ab2c66dc09306689d04da07a3770dad724f0883f0a4bfb745087/transformers-2.4.1-py3-none-any.whl (475kB)\n",
            "\r\u001b[K     |▊                               | 10kB 29.1MB/s eta 0:00:01\r\u001b[K     |█▍                              | 20kB 5.9MB/s eta 0:00:01\r\u001b[K     |██                              | 30kB 7.0MB/s eta 0:00:01\r\u001b[K     |██▊                             | 40kB 5.5MB/s eta 0:00:01\r\u001b[K     |███▍                            | 51kB 6.0MB/s eta 0:00:01\r\u001b[K     |████▏                           | 61kB 7.1MB/s eta 0:00:01\r\u001b[K     |████▉                           | 71kB 7.5MB/s eta 0:00:01\r\u001b[K     |█████▌                          | 81kB 7.2MB/s eta 0:00:01\r\u001b[K     |██████▏                         | 92kB 8.0MB/s eta 0:00:01\r\u001b[K     |██████▉                         | 102kB 8.3MB/s eta 0:00:01\r\u001b[K     |███████▋                        | 112kB 8.3MB/s eta 0:00:01\r\u001b[K     |████████▎                       | 122kB 8.3MB/s eta 0:00:01\r\u001b[K     |█████████                       | 133kB 8.3MB/s eta 0:00:01\r\u001b[K     |█████████▋                      | 143kB 8.3MB/s eta 0:00:01\r\u001b[K     |██████████▎                     | 153kB 8.3MB/s eta 0:00:01\r\u001b[K     |███████████                     | 163kB 8.3MB/s eta 0:00:01\r\u001b[K     |███████████▊                    | 174kB 8.3MB/s eta 0:00:01\r\u001b[K     |████████████▍                   | 184kB 8.3MB/s eta 0:00:01\r\u001b[K     |█████████████                   | 194kB 8.3MB/s eta 0:00:01\r\u001b[K     |█████████████▊                  | 204kB 8.3MB/s eta 0:00:01\r\u001b[K     |██████████████▌                 | 215kB 8.3MB/s eta 0:00:01\r\u001b[K     |███████████████▏                | 225kB 8.3MB/s eta 0:00:01\r\u001b[K     |███████████████▉                | 235kB 8.3MB/s eta 0:00:01\r\u001b[K     |████████████████▌               | 245kB 8.3MB/s eta 0:00:01\r\u001b[K     |█████████████████▏              | 256kB 8.3MB/s eta 0:00:01\r\u001b[K     |██████████████████              | 266kB 8.3MB/s eta 0:00:01\r\u001b[K     |██████████████████▋             | 276kB 8.3MB/s eta 0:00:01\r\u001b[K     |███████████████████▎            | 286kB 8.3MB/s eta 0:00:01\r\u001b[K     |████████████████████            | 296kB 8.3MB/s eta 0:00:01\r\u001b[K     |████████████████████▋           | 307kB 8.3MB/s eta 0:00:01\r\u001b[K     |█████████████████████▍          | 317kB 8.3MB/s eta 0:00:01\r\u001b[K     |██████████████████████          | 327kB 8.3MB/s eta 0:00:01\r\u001b[K     |██████████████████████▊         | 337kB 8.3MB/s eta 0:00:01\r\u001b[K     |███████████████████████▍        | 348kB 8.3MB/s eta 0:00:01\r\u001b[K     |████████████████████████        | 358kB 8.3MB/s eta 0:00:01\r\u001b[K     |████████████████████████▉       | 368kB 8.3MB/s eta 0:00:01\r\u001b[K     |█████████████████████████▌      | 378kB 8.3MB/s eta 0:00:01\r\u001b[K     |██████████████████████████▏     | 389kB 8.3MB/s eta 0:00:01\r\u001b[K     |██████████████████████████▉     | 399kB 8.3MB/s eta 0:00:01\r\u001b[K     |███████████████████████████▌    | 409kB 8.3MB/s eta 0:00:01\r\u001b[K     |████████████████████████████▎   | 419kB 8.3MB/s eta 0:00:01\r\u001b[K     |█████████████████████████████   | 430kB 8.3MB/s eta 0:00:01\r\u001b[K     |█████████████████████████████▋  | 440kB 8.3MB/s eta 0:00:01\r\u001b[K     |██████████████████████████████▎ | 450kB 8.3MB/s eta 0:00:01\r\u001b[K     |███████████████████████████████ | 460kB 8.3MB/s eta 0:00:01\r\u001b[K     |███████████████████████████████▊| 471kB 8.3MB/s eta 0:00:01\r\u001b[K     |████████████████████████████████| 481kB 8.3MB/s \n",
            "\u001b[?25hCollecting sentencepiece\n",
            "\u001b[?25l  Downloading https://files.pythonhosted.org/packages/74/f4/2d5214cbf13d06e7cb2c20d84115ca25b53ea76fa1f0ade0e3c9749de214/sentencepiece-0.1.85-cp36-cp36m-manylinux1_x86_64.whl (1.0MB)\n",
            "\r\u001b[K     |▎                               | 10kB 26.9MB/s eta 0:00:01\r\u001b[K     |▋                               | 20kB 36.2MB/s eta 0:00:01\r\u001b[K     |█                               | 30kB 45.4MB/s eta 0:00:01\r\u001b[K     |█▎                              | 40kB 42.8MB/s eta 0:00:01\r\u001b[K     |█▋                              | 51kB 26.7MB/s eta 0:00:01\r\u001b[K     |██                              | 61kB 30.2MB/s eta 0:00:01\r\u001b[K     |██▏                             | 71kB 16.7MB/s eta 0:00:01\r\u001b[K     |██▌                             | 81kB 18.2MB/s eta 0:00:01\r\u001b[K     |██▉                             | 92kB 19.9MB/s eta 0:00:01\r\u001b[K     |███▏                            | 102kB 20.9MB/s eta 0:00:01\r\u001b[K     |███▌                            | 112kB 20.9MB/s eta 0:00:01\r\u001b[K     |███▉                            | 122kB 20.9MB/s eta 0:00:01\r\u001b[K     |████                            | 133kB 20.9MB/s eta 0:00:01\r\u001b[K     |████▍                           | 143kB 20.9MB/s eta 0:00:01\r\u001b[K     |████▊                           | 153kB 20.9MB/s eta 0:00:01\r\u001b[K     |█████                           | 163kB 20.9MB/s eta 0:00:01\r\u001b[K     |█████▍                          | 174kB 20.9MB/s eta 0:00:01\r\u001b[K     |█████▊                          | 184kB 20.9MB/s eta 0:00:01\r\u001b[K     |██████                          | 194kB 20.9MB/s eta 0:00:01\r\u001b[K     |██████▎                         | 204kB 20.9MB/s eta 0:00:01\r\u001b[K     |██████▋                         | 215kB 20.9MB/s eta 0:00:01\r\u001b[K     |███████                         | 225kB 20.9MB/s eta 0:00:01\r\u001b[K     |███████▎                        | 235kB 20.9MB/s eta 0:00:01\r\u001b[K     |███████▋                        | 245kB 20.9MB/s eta 0:00:01\r\u001b[K     |███████▉                        | 256kB 20.9MB/s eta 0:00:01\r\u001b[K     |████████▏                       | 266kB 20.9MB/s eta 0:00:01\r\u001b[K     |████████▌                       | 276kB 20.9MB/s eta 0:00:01\r\u001b[K     |████████▉                       | 286kB 20.9MB/s eta 0:00:01\r\u001b[K     |█████████▏                      | 296kB 20.9MB/s eta 0:00:01\r\u001b[K     |█████████▌                      | 307kB 20.9MB/s eta 0:00:01\r\u001b[K     |█████████▊                      | 317kB 20.9MB/s eta 0:00:01\r\u001b[K     |██████████                      | 327kB 20.9MB/s eta 0:00:01\r\u001b[K     |██████████▍                     | 337kB 20.9MB/s eta 0:00:01\r\u001b[K     |██████████▊                     | 348kB 20.9MB/s eta 0:00:01\r\u001b[K     |███████████                     | 358kB 20.9MB/s eta 0:00:01\r\u001b[K     |███████████▍                    | 368kB 20.9MB/s eta 0:00:01\r\u001b[K     |███████████▋                    | 378kB 20.9MB/s eta 0:00:01\r\u001b[K     |████████████                    | 389kB 20.9MB/s eta 0:00:01\r\u001b[K     |████████████▎                   | 399kB 20.9MB/s eta 0:00:01\r\u001b[K     |████████████▋                   | 409kB 20.9MB/s eta 0:00:01\r\u001b[K     |█████████████                   | 419kB 20.9MB/s eta 0:00:01\r\u001b[K     |█████████████▎                  | 430kB 20.9MB/s eta 0:00:01\r\u001b[K     |█████████████▌                  | 440kB 20.9MB/s eta 0:00:01\r\u001b[K     |█████████████▉                  | 450kB 20.9MB/s eta 0:00:01\r\u001b[K     |██████████████▏                 | 460kB 20.9MB/s eta 0:00:01\r\u001b[K     |██████████████▌                 | 471kB 20.9MB/s eta 0:00:01\r\u001b[K     |██████████████▉                 | 481kB 20.9MB/s eta 0:00:01\r\u001b[K     |███████████████▏                | 491kB 20.9MB/s eta 0:00:01\r\u001b[K     |███████████████▍                | 501kB 20.9MB/s eta 0:00:01\r\u001b[K     |███████████████▊                | 512kB 20.9MB/s eta 0:00:01\r\u001b[K     |████████████████                | 522kB 20.9MB/s eta 0:00:01\r\u001b[K     |████████████████▍               | 532kB 20.9MB/s eta 0:00:01\r\u001b[K     |████████████████▊               | 542kB 20.9MB/s eta 0:00:01\r\u001b[K     |█████████████████               | 552kB 20.9MB/s eta 0:00:01\r\u001b[K     |█████████████████▎              | 563kB 20.9MB/s eta 0:00:01\r\u001b[K     |█████████████████▋              | 573kB 20.9MB/s eta 0:00:01\r\u001b[K     |██████████████████              | 583kB 20.9MB/s eta 0:00:01\r\u001b[K     |██████████████████▎             | 593kB 20.9MB/s eta 0:00:01\r\u001b[K     |██████████████████▋             | 604kB 20.9MB/s eta 0:00:01\r\u001b[K     |███████████████████             | 614kB 20.9MB/s eta 0:00:01\r\u001b[K     |███████████████████▏            | 624kB 20.9MB/s eta 0:00:01\r\u001b[K     |███████████████████▌            | 634kB 20.9MB/s eta 0:00:01\r\u001b[K     |███████████████████▉            | 645kB 20.9MB/s eta 0:00:01\r\u001b[K     |████████████████████▏           | 655kB 20.9MB/s eta 0:00:01\r\u001b[K     |████████████████████▌           | 665kB 20.9MB/s eta 0:00:01\r\u001b[K     |████████████████████▉           | 675kB 20.9MB/s eta 0:00:01\r\u001b[K     |█████████████████████▏          | 686kB 20.9MB/s eta 0:00:01\r\u001b[K     |█████████████████████▍          | 696kB 20.9MB/s eta 0:00:01\r\u001b[K     |█████████████████████▊          | 706kB 20.9MB/s eta 0:00:01\r\u001b[K     |██████████████████████          | 716kB 20.9MB/s eta 0:00:01\r\u001b[K     |██████████████████████▍         | 727kB 20.9MB/s eta 0:00:01\r\u001b[K     |██████████████████████▊         | 737kB 20.9MB/s eta 0:00:01\r\u001b[K     |███████████████████████         | 747kB 20.9MB/s eta 0:00:01\r\u001b[K     |███████████████████████▎        | 757kB 20.9MB/s eta 0:00:01\r\u001b[K     |███████████████████████▋        | 768kB 20.9MB/s eta 0:00:01\r\u001b[K     |████████████████████████        | 778kB 20.9MB/s eta 0:00:01\r\u001b[K     |████████████████████████▎       | 788kB 20.9MB/s eta 0:00:01\r\u001b[K     |████████████████████████▋       | 798kB 20.9MB/s eta 0:00:01\r\u001b[K     |█████████████████████████       | 808kB 20.9MB/s eta 0:00:01\r\u001b[K     |█████████████████████████▏      | 819kB 20.9MB/s eta 0:00:01\r\u001b[K     |█████████████████████████▌      | 829kB 20.9MB/s eta 0:00:01\r\u001b[K     |█████████████████████████▉      | 839kB 20.9MB/s eta 0:00:01\r\u001b[K     |██████████████████████████▏     | 849kB 20.9MB/s eta 0:00:01\r\u001b[K     |██████████████████████████▌     | 860kB 20.9MB/s eta 0:00:01\r\u001b[K     |██████████████████████████▉     | 870kB 20.9MB/s eta 0:00:01\r\u001b[K     |███████████████████████████     | 880kB 20.9MB/s eta 0:00:01\r\u001b[K     |███████████████████████████▍    | 890kB 20.9MB/s eta 0:00:01\r\u001b[K     |███████████████████████████▊    | 901kB 20.9MB/s eta 0:00:01\r\u001b[K     |████████████████████████████    | 911kB 20.9MB/s eta 0:00:01\r\u001b[K     |████████████████████████████▍   | 921kB 20.9MB/s eta 0:00:01\r\u001b[K     |████████████████████████████▊   | 931kB 20.9MB/s eta 0:00:01\r\u001b[K     |█████████████████████████████   | 942kB 20.9MB/s eta 0:00:01\r\u001b[K     |█████████████████████████████▎  | 952kB 20.9MB/s eta 0:00:01\r\u001b[K     |█████████████████████████████▋  | 962kB 20.9MB/s eta 0:00:01\r\u001b[K     |██████████████████████████████  | 972kB 20.9MB/s eta 0:00:01\r\u001b[K     |██████████████████████████████▎ | 983kB 20.9MB/s eta 0:00:01\r\u001b[K     |██████████████████████████████▋ | 993kB 20.9MB/s eta 0:00:01\r\u001b[K     |██████████████████████████████▉ | 1.0MB 20.9MB/s eta 0:00:01\r\u001b[K     |███████████████████████████████▏| 1.0MB 20.9MB/s eta 0:00:01\r\u001b[K     |███████████████████████████████▌| 1.0MB 20.9MB/s eta 0:00:01\r\u001b[K     |███████████████████████████████▉| 1.0MB 20.9MB/s eta 0:00:01\r\u001b[K     |████████████████████████████████| 1.0MB 20.9MB/s \n",
            "\u001b[?25hRequirement already satisfied: tqdm>=4.27 in /usr/local/lib/python3.6/dist-packages (from transformers) (4.28.1)\n",
            "Requirement already satisfied: regex!=2019.12.17 in /usr/local/lib/python3.6/dist-packages (from transformers) (2019.12.20)\n",
            "Requirement already satisfied: numpy in /usr/local/lib/python3.6/dist-packages (from transformers) (1.17.5)\n",
            "Requirement already satisfied: filelock in /usr/local/lib/python3.6/dist-packages (from transformers) (3.0.12)\n",
            "Collecting sacremoses\n",
            "\u001b[?25l  Downloading https://files.pythonhosted.org/packages/a6/b4/7a41d630547a4afd58143597d5a49e07bfd4c42914d8335b2a5657efc14b/sacremoses-0.0.38.tar.gz (860kB)\n",
            "\u001b[K     |████████████████████████████████| 870kB 48.7MB/s \n",
            "\u001b[?25hCollecting tokenizers==0.0.11\n",
            "\u001b[?25l  Downloading https://files.pythonhosted.org/packages/5e/36/7af38d572c935f8e0462ec7b4f7a46d73a2b3b1a938f50a5e8132d5b2dc5/tokenizers-0.0.11-cp36-cp36m-manylinux1_x86_64.whl (3.1MB)\n",
            "\u001b[K     |████████████████████████████████| 3.1MB 28.8MB/s \n",
            "\u001b[?25hRequirement already satisfied: requests in /usr/local/lib/python3.6/dist-packages (from transformers) (2.21.0)\n",
            "Requirement already satisfied: boto3 in /usr/local/lib/python3.6/dist-packages (from transformers) (1.11.15)\n",
            "Requirement already satisfied: six in /usr/local/lib/python3.6/dist-packages (from sacremoses->transformers) (1.12.0)\n",
            "Requirement already satisfied: click in /usr/local/lib/python3.6/dist-packages (from sacremoses->transformers) (7.0)\n",
            "Requirement already satisfied: joblib in /usr/local/lib/python3.6/dist-packages (from sacremoses->transformers) (0.14.1)\n",
            "Requirement already satisfied: certifi>=2017.4.17 in /usr/local/lib/python3.6/dist-packages (from requests->transformers) (2019.11.28)\n",
            "Requirement already satisfied: chardet<3.1.0,>=3.0.2 in /usr/local/lib/python3.6/dist-packages (from requests->transformers) (3.0.4)\n",
            "Requirement already satisfied: urllib3<1.25,>=1.21.1 in /usr/local/lib/python3.6/dist-packages (from requests->transformers) (1.24.3)\n",
            "Requirement already satisfied: idna<2.9,>=2.5 in /usr/local/lib/python3.6/dist-packages (from requests->transformers) (2.8)\n",
            "Requirement already satisfied: s3transfer<0.4.0,>=0.3.0 in /usr/local/lib/python3.6/dist-packages (from boto3->transformers) (0.3.3)\n",
            "Requirement already satisfied: jmespath<1.0.0,>=0.7.1 in /usr/local/lib/python3.6/dist-packages (from boto3->transformers) (0.9.4)\n",
            "Requirement already satisfied: botocore<1.15.0,>=1.14.15 in /usr/local/lib/python3.6/dist-packages (from boto3->transformers) (1.14.15)\n",
            "Requirement already satisfied: docutils<0.16,>=0.10 in /usr/local/lib/python3.6/dist-packages (from botocore<1.15.0,>=1.14.15->boto3->transformers) (0.15.2)\n",
            "Requirement already satisfied: python-dateutil<3.0.0,>=2.1 in /usr/local/lib/python3.6/dist-packages (from botocore<1.15.0,>=1.14.15->boto3->transformers) (2.6.1)\n",
            "Building wheels for collected packages: sacremoses\n",
            "  Building wheel for sacremoses (setup.py) ... \u001b[?25l\u001b[?25hdone\n",
            "  Created wheel for sacremoses: filename=sacremoses-0.0.38-cp36-none-any.whl size=884628 sha256=c597057dfa2a8646443b7190f6627b68bdaf88daa9a0d227562fcde32a192ff7\n",
            "  Stored in directory: /root/.cache/pip/wheels/6d/ec/1a/21b8912e35e02741306f35f66c785f3afe94de754a0eaf1422\n",
            "Successfully built sacremoses\n",
            "Installing collected packages: sentencepiece, sacremoses, tokenizers, transformers\n",
            "Successfully installed sacremoses-0.0.38 sentencepiece-0.1.85 tokenizers-0.0.11 transformers-2.4.1\n"
          ],
          "name": "stdout"
        },
        {
          "output_type": "display_data",
          "data": {
            "text/html": [
              "<p style=\"color: red;\">\n",
              "The default version of TensorFlow in Colab will soon switch to TensorFlow 2.x.<br>\n",
              "We recommend you <a href=\"https://www.tensorflow.org/guide/migrate\" target=\"_blank\">upgrade</a> now \n",
              "or ensure your notebook will continue to use TensorFlow 1.x via the <code>%tensorflow_version 1.x</code> magic:\n",
              "<a href=\"https://colab.research.google.com/notebooks/tensorflow_version.ipynb\" target=\"_blank\">more info</a>.</p>\n"
            ],
            "text/plain": [
              "<IPython.core.display.HTML object>"
            ]
          },
          "metadata": {
            "tags": []
          }
        },
        {
          "output_type": "stream",
          "text": [
            "Loading BERT tokenizer...\n"
          ],
          "name": "stdout"
        },
        {
          "output_type": "display_data",
          "data": {
            "application/vnd.jupyter.widget-view+json": {
              "model_id": "c52fa914af0344da90d7fa498e756c30",
              "version_minor": 0,
              "version_major": 2
            },
            "text/plain": [
              "HBox(children=(IntProgress(value=0, description='Downloading', max=231508, style=ProgressStyle(description_wid…"
            ]
          },
          "metadata": {
            "tags": []
          }
        },
        {
          "output_type": "stream",
          "text": [
            "\n"
          ],
          "name": "stdout"
        }
      ]
    },
    {
      "cell_type": "code",
      "metadata": {
        "id": "FXkrY0akm2Km",
        "colab_type": "code",
        "colab": {}
      },
      "source": [
        "# Encode Training Data\n",
        "\n",
        "encoded_training_data = []\n",
        "\n",
        "for i in range(training_data_dataframe.shape[0]):\n",
        "  encoded_training_data.append(tokenizer.encode(training_data_dataframe.at[i, 5]))\n",
        "\n",
        "training_data_dataframe[6] = pd.Series(encoded_training_data, index=training_data_dataframe.index)"
      ],
      "execution_count": 0,
      "outputs": []
    },
    {
      "cell_type": "code",
      "metadata": {
        "id": "ynFLUG_2UliN",
        "colab_type": "code",
        "outputId": "3052d55a-df52-449a-8242-4a3cb04462c3",
        "colab": {
          "base_uri": "https://localhost:8080/",
          "height": 204
        }
      },
      "source": [
        "training_data_dataframe.head()"
      ],
      "execution_count": 10,
      "outputs": [
        {
          "output_type": "execute_result",
          "data": {
            "text/html": [
              "<div>\n",
              "<style scoped>\n",
              "    .dataframe tbody tr th:only-of-type {\n",
              "        vertical-align: middle;\n",
              "    }\n",
              "\n",
              "    .dataframe tbody tr th {\n",
              "        vertical-align: top;\n",
              "    }\n",
              "\n",
              "    .dataframe thead th {\n",
              "        text-align: right;\n",
              "    }\n",
              "</style>\n",
              "<table border=\"1\" class=\"dataframe\">\n",
              "  <thead>\n",
              "    <tr style=\"text-align: right;\">\n",
              "      <th></th>\n",
              "      <th>0</th>\n",
              "      <th>1</th>\n",
              "      <th>2</th>\n",
              "      <th>3</th>\n",
              "      <th>4</th>\n",
              "      <th>5</th>\n",
              "      <th>6</th>\n",
              "    </tr>\n",
              "  </thead>\n",
              "  <tbody>\n",
              "    <tr>\n",
              "      <th>0</th>\n",
              "      <td>0</td>\n",
              "      <td>1467810369</td>\n",
              "      <td>Mon Apr 06 22:19:45 PDT 2009</td>\n",
              "      <td>NO_QUERY</td>\n",
              "      <td>_TheSpecialOne_</td>\n",
              "      <td>@switchfoot http://twitpic.com/2y1zl - Awww, t...</td>\n",
              "      <td>[101, 1030, 6942, 13064, 8299, 1024, 1013, 101...</td>\n",
              "    </tr>\n",
              "    <tr>\n",
              "      <th>1</th>\n",
              "      <td>0</td>\n",
              "      <td>1467810672</td>\n",
              "      <td>Mon Apr 06 22:19:49 PDT 2009</td>\n",
              "      <td>NO_QUERY</td>\n",
              "      <td>scotthamilton</td>\n",
              "      <td>is upset that he can't update his Facebook by ...</td>\n",
              "      <td>[101, 2003, 6314, 2008, 2002, 2064, 1005, 1056...</td>\n",
              "    </tr>\n",
              "    <tr>\n",
              "      <th>2</th>\n",
              "      <td>0</td>\n",
              "      <td>1467810917</td>\n",
              "      <td>Mon Apr 06 22:19:53 PDT 2009</td>\n",
              "      <td>NO_QUERY</td>\n",
              "      <td>mattycus</td>\n",
              "      <td>@Kenichan I dived many times for the ball. Man...</td>\n",
              "      <td>[101, 1030, 6358, 7033, 2319, 1045, 11529, 209...</td>\n",
              "    </tr>\n",
              "    <tr>\n",
              "      <th>3</th>\n",
              "      <td>0</td>\n",
              "      <td>1467811184</td>\n",
              "      <td>Mon Apr 06 22:19:57 PDT 2009</td>\n",
              "      <td>NO_QUERY</td>\n",
              "      <td>ElleCTF</td>\n",
              "      <td>my whole body feels itchy and like its on fire</td>\n",
              "      <td>[101, 2026, 2878, 2303, 5683, 2009, 11714, 199...</td>\n",
              "    </tr>\n",
              "    <tr>\n",
              "      <th>4</th>\n",
              "      <td>0</td>\n",
              "      <td>1467811193</td>\n",
              "      <td>Mon Apr 06 22:19:57 PDT 2009</td>\n",
              "      <td>NO_QUERY</td>\n",
              "      <td>Karoli</td>\n",
              "      <td>@nationwideclass no, it's not behaving at all....</td>\n",
              "      <td>[101, 1030, 9053, 26266, 2053, 1010, 2009, 100...</td>\n",
              "    </tr>\n",
              "  </tbody>\n",
              "</table>\n",
              "</div>"
            ],
            "text/plain": [
              "   0  ...                                                  6\n",
              "0  0  ...  [101, 1030, 6942, 13064, 8299, 1024, 1013, 101...\n",
              "1  0  ...  [101, 2003, 6314, 2008, 2002, 2064, 1005, 1056...\n",
              "2  0  ...  [101, 1030, 6358, 7033, 2319, 1045, 11529, 209...\n",
              "3  0  ...  [101, 2026, 2878, 2303, 5683, 2009, 11714, 199...\n",
              "4  0  ...  [101, 1030, 9053, 26266, 2053, 1010, 2009, 100...\n",
              "\n",
              "[5 rows x 7 columns]"
            ]
          },
          "metadata": {
            "tags": []
          },
          "execution_count": 10
        }
      ]
    },
    {
      "cell_type": "code",
      "metadata": {
        "id": "ogFygq0zwrHv",
        "colab_type": "code",
        "colab": {}
      },
      "source": [
        "# Encode Testing Data\n",
        "\n",
        "encoded_testing_data = []\n",
        "\n",
        "for i in range(testing_data_dataframe.shape[0]):\n",
        "  encoded_testing_data.append(tokenizer.encode(testing_data_dataframe.at[i, 5]))\n",
        "\n",
        "testing_data_dataframe[6] = pd.Series(encoded_testing_data, index=testing_data_dataframe.index)"
      ],
      "execution_count": 0,
      "outputs": []
    },
    {
      "cell_type": "code",
      "metadata": {
        "id": "dnkC9HhdUmBt",
        "colab_type": "code",
        "outputId": "0512cceb-1d37-48fd-f588-d9787b00ae6c",
        "colab": {
          "base_uri": "https://localhost:8080/",
          "height": 204
        }
      },
      "source": [
        "testing_data_dataframe.head()"
      ],
      "execution_count": 12,
      "outputs": [
        {
          "output_type": "execute_result",
          "data": {
            "text/html": [
              "<div>\n",
              "<style scoped>\n",
              "    .dataframe tbody tr th:only-of-type {\n",
              "        vertical-align: middle;\n",
              "    }\n",
              "\n",
              "    .dataframe tbody tr th {\n",
              "        vertical-align: top;\n",
              "    }\n",
              "\n",
              "    .dataframe thead th {\n",
              "        text-align: right;\n",
              "    }\n",
              "</style>\n",
              "<table border=\"1\" class=\"dataframe\">\n",
              "  <thead>\n",
              "    <tr style=\"text-align: right;\">\n",
              "      <th></th>\n",
              "      <th>0</th>\n",
              "      <th>1</th>\n",
              "      <th>2</th>\n",
              "      <th>3</th>\n",
              "      <th>4</th>\n",
              "      <th>5</th>\n",
              "      <th>6</th>\n",
              "    </tr>\n",
              "  </thead>\n",
              "  <tbody>\n",
              "    <tr>\n",
              "      <th>0</th>\n",
              "      <td>4</td>\n",
              "      <td>3</td>\n",
              "      <td>Mon May 11 03:17:40 UTC 2009</td>\n",
              "      <td>kindle2</td>\n",
              "      <td>tpryan</td>\n",
              "      <td>@stellargirl I loooooooovvvvvveee my Kindle2. ...</td>\n",
              "      <td>[101, 1030, 17227, 15239, 1045, 8840, 9541, 95...</td>\n",
              "    </tr>\n",
              "    <tr>\n",
              "      <th>1</th>\n",
              "      <td>4</td>\n",
              "      <td>4</td>\n",
              "      <td>Mon May 11 03:18:03 UTC 2009</td>\n",
              "      <td>kindle2</td>\n",
              "      <td>vcu451</td>\n",
              "      <td>Reading my kindle2...  Love it... Lee childs i...</td>\n",
              "      <td>[101, 3752, 2026, 2785, 2571, 2475, 1012, 1012...</td>\n",
              "    </tr>\n",
              "    <tr>\n",
              "      <th>2</th>\n",
              "      <td>4</td>\n",
              "      <td>5</td>\n",
              "      <td>Mon May 11 03:18:54 UTC 2009</td>\n",
              "      <td>kindle2</td>\n",
              "      <td>chadfu</td>\n",
              "      <td>Ok, first assesment of the #kindle2 ...it fuck...</td>\n",
              "      <td>[101, 7929, 1010, 2034, 4632, 2229, 3672, 1997...</td>\n",
              "    </tr>\n",
              "    <tr>\n",
              "      <th>3</th>\n",
              "      <td>4</td>\n",
              "      <td>6</td>\n",
              "      <td>Mon May 11 03:19:04 UTC 2009</td>\n",
              "      <td>kindle2</td>\n",
              "      <td>SIX15</td>\n",
              "      <td>@kenburbary You'll love your Kindle2. I've had...</td>\n",
              "      <td>[101, 1030, 6358, 8569, 28483, 2854, 2017, 100...</td>\n",
              "    </tr>\n",
              "    <tr>\n",
              "      <th>4</th>\n",
              "      <td>4</td>\n",
              "      <td>7</td>\n",
              "      <td>Mon May 11 03:21:41 UTC 2009</td>\n",
              "      <td>kindle2</td>\n",
              "      <td>yamarama</td>\n",
              "      <td>@mikefish  Fair enough. But i have the Kindle2...</td>\n",
              "      <td>[101, 1030, 3505, 7529, 4189, 2438, 1012, 2021...</td>\n",
              "    </tr>\n",
              "  </tbody>\n",
              "</table>\n",
              "</div>"
            ],
            "text/plain": [
              "   0  ...                                                  6\n",
              "0  4  ...  [101, 1030, 17227, 15239, 1045, 8840, 9541, 95...\n",
              "1  4  ...  [101, 3752, 2026, 2785, 2571, 2475, 1012, 1012...\n",
              "2  4  ...  [101, 7929, 1010, 2034, 4632, 2229, 3672, 1997...\n",
              "3  4  ...  [101, 1030, 6358, 8569, 28483, 2854, 2017, 100...\n",
              "4  4  ...  [101, 1030, 3505, 7529, 4189, 2438, 1012, 2021...\n",
              "\n",
              "[5 rows x 7 columns]"
            ]
          },
          "metadata": {
            "tags": []
          },
          "execution_count": 12
        }
      ]
    },
    {
      "cell_type": "code",
      "metadata": {
        "id": "bwu9OxsLuHPI",
        "colab_type": "code",
        "colab": {}
      },
      "source": [
        "# Save Encoded Data\n",
        "\n",
        "training_data_dataframe.to_csv('training_data_dataframe' ,sep=',', encoding='utf-8')\n",
        "testing_data_dataframe.to_csv('testing_data_dataframe' ,sep=',', encoding='utf-8')"
      ],
      "execution_count": 0,
      "outputs": []
    },
    {
      "cell_type": "code",
      "metadata": {
        "id": "EiMlV-cijVtU",
        "colab_type": "code",
        "colab": {}
      },
      "source": [
        "# Link to Location of Encoded Data\n",
        "\n",
        "training_processed_link = 'https://drive.google.com/open?id=1rNgBYvlOZGY5eTjeJM1Iils6FionfAsn'\n",
        "testing_processed_link = 'https://drive.google.com/open?id=1pNIdlO0dDZgVyS0JujwXSnH6055-pnAO'\n",
        "\n",
        "training_processed_fluff, training_processed_id = training_processed_link.split('=')\n",
        "testing_processed_fluff, testing_processed_id = testing_processed_link.split('=')"
      ],
      "execution_count": 0,
      "outputs": []
    },
    {
      "cell_type": "code",
      "metadata": {
        "id": "6TPUfMiN5WM7",
        "colab_type": "code",
        "colab": {}
      },
      "source": [
        "# Import Encoded Data\n",
        "\n",
        "training_processed = drive.CreateFile({'id':training_processed_id})\n",
        "\n",
        "testing_processed = drive.CreateFile({'id':testing_processed_id})"
      ],
      "execution_count": 0,
      "outputs": []
    },
    {
      "cell_type": "code",
      "metadata": {
        "id": "zU_fEfuH5Pnk",
        "colab_type": "code",
        "colab": {}
      },
      "source": [
        "# Upload Encoded Data\n",
        "\n",
        "training_processed.SetContentFile('training_data_dataframe')\n",
        "training_processed.Upload()\n",
        "\n",
        "testing_processed.SetContentFile('testing_data_dataframe')\n",
        "testing_processed.Upload()"
      ],
      "execution_count": 0,
      "outputs": []
    },
    {
      "cell_type": "code",
      "metadata": {
        "id": "_srZ4-hw6D4S",
        "colab_type": "code",
        "colab": {}
      },
      "source": [
        "# Read Saved Encoded Data\n",
        "\n",
        "training_processed.GetContentFile('training_data_dataframe.csv')\n",
        "training_data_dataframe = pd.read_csv('training_data_dataframe.csv')\n",
        "testing_processed.GetContentFile('testing_data_dataframe.csv')\n",
        "testing_data_dataframe = pd.read_csv('testing_data_dataframe.csv')"
      ],
      "execution_count": 0,
      "outputs": []
    },
    {
      "cell_type": "code",
      "metadata": {
        "id": "KzJcG4zwgfqp",
        "colab_type": "code",
        "colab": {
          "base_uri": "https://localhost:8080/",
          "height": 204
        },
        "outputId": "b5ad2cd1-bafc-4179-d42f-70292738a3a4"
      },
      "source": [
        "# Training Dataset Formatting\n",
        "training_ids = training_data_dataframe.iloc[:,2].array\n",
        "training_labels = training_data_dataframe.iloc[:,1].array\n",
        "training_data = training_data_dataframe.iloc[:,6].array\n",
        "training_size = len(training_ids)\n",
        "training_comparison_data = [\"a\"]*training_size\n",
        "training_frame = {\"guid\":training_ids, \"label\":training_labels, \"text_a\":training_comparison_data, \"text_b\":training_data}\n",
        "formatted_training_dataframe = pd.DataFrame(training_frame)\n",
        "formatted_training_dataframe.head()"
      ],
      "execution_count": 18,
      "outputs": [
        {
          "output_type": "execute_result",
          "data": {
            "text/html": [
              "<div>\n",
              "<style scoped>\n",
              "    .dataframe tbody tr th:only-of-type {\n",
              "        vertical-align: middle;\n",
              "    }\n",
              "\n",
              "    .dataframe tbody tr th {\n",
              "        vertical-align: top;\n",
              "    }\n",
              "\n",
              "    .dataframe thead th {\n",
              "        text-align: right;\n",
              "    }\n",
              "</style>\n",
              "<table border=\"1\" class=\"dataframe\">\n",
              "  <thead>\n",
              "    <tr style=\"text-align: right;\">\n",
              "      <th></th>\n",
              "      <th>guid</th>\n",
              "      <th>label</th>\n",
              "      <th>text_a</th>\n",
              "      <th>text_b</th>\n",
              "    </tr>\n",
              "  </thead>\n",
              "  <tbody>\n",
              "    <tr>\n",
              "      <th>0</th>\n",
              "      <td>1467810369</td>\n",
              "      <td>0</td>\n",
              "      <td>a</td>\n",
              "      <td>@switchfoot http://twitpic.com/2y1zl - Awww, t...</td>\n",
              "    </tr>\n",
              "    <tr>\n",
              "      <th>1</th>\n",
              "      <td>1467810672</td>\n",
              "      <td>0</td>\n",
              "      <td>a</td>\n",
              "      <td>is upset that he can't update his Facebook by ...</td>\n",
              "    </tr>\n",
              "    <tr>\n",
              "      <th>2</th>\n",
              "      <td>1467810917</td>\n",
              "      <td>0</td>\n",
              "      <td>a</td>\n",
              "      <td>@Kenichan I dived many times for the ball. Man...</td>\n",
              "    </tr>\n",
              "    <tr>\n",
              "      <th>3</th>\n",
              "      <td>1467811184</td>\n",
              "      <td>0</td>\n",
              "      <td>a</td>\n",
              "      <td>my whole body feels itchy and like its on fire</td>\n",
              "    </tr>\n",
              "    <tr>\n",
              "      <th>4</th>\n",
              "      <td>1467811193</td>\n",
              "      <td>0</td>\n",
              "      <td>a</td>\n",
              "      <td>@nationwideclass no, it's not behaving at all....</td>\n",
              "    </tr>\n",
              "  </tbody>\n",
              "</table>\n",
              "</div>"
            ],
            "text/plain": [
              "         guid  label text_a                                             text_b\n",
              "0  1467810369      0      a  @switchfoot http://twitpic.com/2y1zl - Awww, t...\n",
              "1  1467810672      0      a  is upset that he can't update his Facebook by ...\n",
              "2  1467810917      0      a  @Kenichan I dived many times for the ball. Man...\n",
              "3  1467811184      0      a    my whole body feels itchy and like its on fire \n",
              "4  1467811193      0      a  @nationwideclass no, it's not behaving at all...."
            ]
          },
          "metadata": {
            "tags": []
          },
          "execution_count": 18
        }
      ]
    },
    {
      "cell_type": "code",
      "metadata": {
        "id": "2MfEeJ_MkEQT",
        "colab_type": "code",
        "colab": {
          "base_uri": "https://localhost:8080/",
          "height": 204
        },
        "outputId": "d0f89ee8-2523-4abf-a475-292ac0de77f7"
      },
      "source": [
        "# Testing Dataset Formatting\n",
        "\n",
        "testing_ids = testing_data_dataframe.iloc[:,2].array\n",
        "testing_labels = testing_data_dataframe.iloc[:,1].array\n",
        "testing_data = testing_data_dataframe.iloc[:,6].array\n",
        "testing_size = len(testing_ids)\n",
        "testing_comparison_data = [\"a\"]*testing_size\n",
        "testing_frame = {\"guid\":testing_ids, \"label\":testing_labels, \"text_a\":testing_comparison_data, \"text_b\":testing_data}\n",
        "formatted_testing_dataframe = pd.DataFrame(testing_frame)\n",
        "formatted_testing_dataframe.head()"
      ],
      "execution_count": 19,
      "outputs": [
        {
          "output_type": "execute_result",
          "data": {
            "text/html": [
              "<div>\n",
              "<style scoped>\n",
              "    .dataframe tbody tr th:only-of-type {\n",
              "        vertical-align: middle;\n",
              "    }\n",
              "\n",
              "    .dataframe tbody tr th {\n",
              "        vertical-align: top;\n",
              "    }\n",
              "\n",
              "    .dataframe thead th {\n",
              "        text-align: right;\n",
              "    }\n",
              "</style>\n",
              "<table border=\"1\" class=\"dataframe\">\n",
              "  <thead>\n",
              "    <tr style=\"text-align: right;\">\n",
              "      <th></th>\n",
              "      <th>guid</th>\n",
              "      <th>label</th>\n",
              "      <th>text_a</th>\n",
              "      <th>text_b</th>\n",
              "    </tr>\n",
              "  </thead>\n",
              "  <tbody>\n",
              "    <tr>\n",
              "      <th>0</th>\n",
              "      <td>3</td>\n",
              "      <td>4</td>\n",
              "      <td>a</td>\n",
              "      <td>@stellargirl I loooooooovvvvvveee my Kindle2. ...</td>\n",
              "    </tr>\n",
              "    <tr>\n",
              "      <th>1</th>\n",
              "      <td>4</td>\n",
              "      <td>4</td>\n",
              "      <td>a</td>\n",
              "      <td>Reading my kindle2...  Love it... Lee childs i...</td>\n",
              "    </tr>\n",
              "    <tr>\n",
              "      <th>2</th>\n",
              "      <td>5</td>\n",
              "      <td>4</td>\n",
              "      <td>a</td>\n",
              "      <td>Ok, first assesment of the #kindle2 ...it fuck...</td>\n",
              "    </tr>\n",
              "    <tr>\n",
              "      <th>3</th>\n",
              "      <td>6</td>\n",
              "      <td>4</td>\n",
              "      <td>a</td>\n",
              "      <td>@kenburbary You'll love your Kindle2. I've had...</td>\n",
              "    </tr>\n",
              "    <tr>\n",
              "      <th>4</th>\n",
              "      <td>7</td>\n",
              "      <td>4</td>\n",
              "      <td>a</td>\n",
              "      <td>@mikefish  Fair enough. But i have the Kindle2...</td>\n",
              "    </tr>\n",
              "  </tbody>\n",
              "</table>\n",
              "</div>"
            ],
            "text/plain": [
              "   guid  label text_a                                             text_b\n",
              "0     3      4      a  @stellargirl I loooooooovvvvvveee my Kindle2. ...\n",
              "1     4      4      a  Reading my kindle2...  Love it... Lee childs i...\n",
              "2     5      4      a  Ok, first assesment of the #kindle2 ...it fuck...\n",
              "3     6      4      a  @kenburbary You'll love your Kindle2. I've had...\n",
              "4     7      4      a  @mikefish  Fair enough. But i have the Kindle2..."
            ]
          },
          "metadata": {
            "tags": []
          },
          "execution_count": 19
        }
      ]
    },
    {
      "cell_type": "code",
      "metadata": {
        "id": "zxQ-hfvG-wgM",
        "colab_type": "code",
        "colab": {}
      },
      "source": [
        "! pip install torch\n",
        "! pip install torchvision\n",
        "\n",
        "import torch\n",
        "import torch.nn as nn\n",
        "import torch.nn.functional as F\n",
        "import torchvision\n",
        "\n",
        "from transformers import glue_convert_examples_to_features as convert_examples_to_features\n",
        "from torch.utils.data import TensorDataset, RandomSampler, DataLoader, random_split\n",
        "from transformers.data.processors.utils import InputExample"
      ],
      "execution_count": 0,
      "outputs": []
    },
    {
      "cell_type": "code",
      "metadata": {
        "id": "GO9FzQdN-NXv",
        "colab_type": "code",
        "colab": {
          "base_uri": "https://localhost:8080/",
          "height": 136
        },
        "outputId": "2391bb77-ffcd-4dee-8d0d-9c064146000c"
      },
      "source": [
        "# Training Dataset Preparation for BERT\n",
        "\n",
        "train = formatted_training_dataframe.to_dict('records')\n",
        "train_data = []\n",
        "for i in range(len(train)):\n",
        "  input_example_training = InputExample(guid=train[i]['guid'], text_a=train[i]['text_b'], label=train[i]['label'])\n",
        "  train_data.append(input_example_training)\n",
        "\n",
        "features = convert_examples_to_features(train_data,\n",
        "                                        tokenizer,\n",
        "                                        max_length=128,\n",
        "                                        label_list=[0,1,2,3,4],\n",
        "                                        output_mode='regression',\n",
        "                                        pad_on_left=False,\n",
        "                                        pad_token=tokenizer.pad_token_id,\n",
        "                                        pad_token_segment_id=0)"
      ],
      "execution_count": 21,
      "outputs": [
        {
          "output_type": "stream",
          "text": [
            "{\n",
            "  \"guid\": 1467810369,\n",
            "  \"label\": 0,\n",
            "  \"text_a\": \"@switchfoot http://twitpic.com/2y1zl - Awww, that's a bummer.  You shoulda got David Carr of Third Day to do it. ;D\",\n",
            "  \"text_b\": null\n",
            "}\n",
            "\n"
          ],
          "name": "stdout"
        }
      ]
    },
    {
      "cell_type": "code",
      "metadata": {
        "id": "sSqzCA1z7Vn8",
        "colab_type": "code",
        "colab": {
          "base_uri": "https://localhost:8080/",
          "height": 231
        },
        "outputId": "2c98e24c-9cdc-434b-d01c-3462d991ff4d"
      },
      "source": [
        "train_dataset = TensorDataset(torch.tensor([f.input_ids for f in features], dtype=torch.long), \n",
        "                                torch.tensor([f.attention_mask for f in features], dtype=torch.long), \n",
        "                                torch.tensor([f.token_type_ids for f in features], dtype=torch.long), \n",
        "                                torch.tensor([f.label for f in features], dtype=torch.long))\n",
        "\n",
        "nb_train_samples = int(0.95 * len(train_dataset))\n",
        "nb_val_samples = len(train_dataset) - nb_train_samples\n",
        "\n",
        "bert_mnli_train_dataset, bert_mnli_val_dataset = random_split(train_dataset, [nb_train_samples, nb_val_samples])\n",
        "\n",
        "# train loader\n",
        "train_sampler = RandomSampler(bert_mnli_train_dataset)\n",
        "bert_mnli_train_dataloader = DataLoader(bert_mnli_train_dataset, sampler=train_sampler, batch_size=32)\n",
        "\n",
        "# val loader\n",
        "val_sampler = RandomSampler(bert_mnli_val_dataset)\n",
        "bert_mnli_val_dataloader = DataLoader(bert_mnli_val_dataset, sampler=val_sampler, batch_size=32)"
      ],
      "execution_count": 1,
      "outputs": [
        {
          "output_type": "error",
          "ename": "NameError",
          "evalue": "ignored",
          "traceback": [
            "\u001b[0;31m---------------------------------------------------------------------------\u001b[0m",
            "\u001b[0;31mNameError\u001b[0m                                 Traceback (most recent call last)",
            "\u001b[0;32m<ipython-input-1-78018336fd6c>\u001b[0m in \u001b[0;36m<module>\u001b[0;34m()\u001b[0m\n\u001b[0;32m----> 1\u001b[0;31m train_dataset = TensorDataset(torch.tensor([f.input_ids for f in features], dtype=torch.long), \n\u001b[0m\u001b[1;32m      2\u001b[0m                                 \u001b[0mtorch\u001b[0m\u001b[0;34m.\u001b[0m\u001b[0mtensor\u001b[0m\u001b[0;34m(\u001b[0m\u001b[0;34m[\u001b[0m\u001b[0mf\u001b[0m\u001b[0;34m.\u001b[0m\u001b[0mattention_mask\u001b[0m \u001b[0;32mfor\u001b[0m \u001b[0mf\u001b[0m \u001b[0;32min\u001b[0m \u001b[0mfeatures\u001b[0m\u001b[0;34m]\u001b[0m\u001b[0;34m,\u001b[0m \u001b[0mdtype\u001b[0m\u001b[0;34m=\u001b[0m\u001b[0mtorch\u001b[0m\u001b[0;34m.\u001b[0m\u001b[0mlong\u001b[0m\u001b[0;34m)\u001b[0m\u001b[0;34m,\u001b[0m\u001b[0;34m\u001b[0m\u001b[0;34m\u001b[0m\u001b[0m\n\u001b[1;32m      3\u001b[0m                                 \u001b[0mtorch\u001b[0m\u001b[0;34m.\u001b[0m\u001b[0mtensor\u001b[0m\u001b[0;34m(\u001b[0m\u001b[0;34m[\u001b[0m\u001b[0mf\u001b[0m\u001b[0;34m.\u001b[0m\u001b[0mtoken_type_ids\u001b[0m \u001b[0;32mfor\u001b[0m \u001b[0mf\u001b[0m \u001b[0;32min\u001b[0m \u001b[0mfeatures\u001b[0m\u001b[0;34m]\u001b[0m\u001b[0;34m,\u001b[0m \u001b[0mdtype\u001b[0m\u001b[0;34m=\u001b[0m\u001b[0mtorch\u001b[0m\u001b[0;34m.\u001b[0m\u001b[0mlong\u001b[0m\u001b[0;34m)\u001b[0m\u001b[0;34m,\u001b[0m\u001b[0;34m\u001b[0m\u001b[0;34m\u001b[0m\u001b[0m\n\u001b[1;32m      4\u001b[0m                                 torch.tensor([f.label for f in features], dtype=torch.long))\n\u001b[1;32m      5\u001b[0m \u001b[0;34m\u001b[0m\u001b[0m\n",
            "\u001b[0;31mNameError\u001b[0m: name 'TensorDataset' is not defined"
          ]
        }
      ]
    },
    {
      "cell_type": "code",
      "metadata": {
        "id": "L_2et_OYAByD",
        "colab_type": "code",
        "colab": {}
      },
      "source": [
        "print(features[0])"
      ],
      "execution_count": 0,
      "outputs": []
    },
    {
      "cell_type": "code",
      "metadata": {
        "id": "cBRUgl_-pkFc",
        "colab_type": "code",
        "colab": {}
      },
      "source": [
        "from transformers import BertModel\n",
        "\n",
        "bert = BertModel.from_pretrained('bert-base-cased', output_attentions=True)"
      ],
      "execution_count": 0,
      "outputs": []
    },
    {
      "cell_type": "code",
      "metadata": {
        "id": "sbnDGtZvp_X6",
        "colab_type": "code",
        "colab": {}
      },
      "source": [
        "print(bert)"
      ],
      "execution_count": 0,
      "outputs": []
    },
    {
      "cell_type": "code",
      "metadata": {
        "id": "_hH4K3m5xmq3",
        "colab_type": "code",
        "colab": {}
      },
      "source": [
        "# Describe Subsystems of the Ensemble Model\n",
        "\n",
        "class SentimentRegressionModel(nn.Module):\n",
        "    def __init__(self, bert, n_hidden):\n",
        "        super(SentimentRegressionModel, self).__init__()\n",
        "        self.bert = bert\n",
        "        self.hidden = nn.Linear(bert.config.hidden_size, n_hidden)\n",
        "        self.predict = nn.Linear(n_hidden, 1)\n",
        "        \n",
        "    def forward(self, input_ids, attention_mask, token_type_ids):\n",
        "        h, _, attn = self.bert(input_ids=input_ids,\n",
        "                               attention_mask=attention_mask,\n",
        "                               token_type_ids=token_type_ids)\n",
        "        x = h[:, 0]\n",
        "        x = F.relu(self.hidden(x))\n",
        "        x = self.predict(x)\n",
        "        return x, attn\n",
        "    \n",
        "\n",
        "class EmotionClassificationModel(nn.Module):\n",
        "    def __init__(self, bert, n_hidden, n_output):\n",
        "        super(EmotionClassificationModel, self).__init__()\n",
        "        self.bert = bert\n",
        "        self.hidden = nn.Linear(bert.config.hidden_size, n_hidden)\n",
        "        self.predict = nn.Linear(n_hidden, n_output)\n",
        "        \n",
        "    def forward(self, input_ids, attention_mask, token_type_ids):\n",
        "        h, _, attn = self.bert(input_ids=input_ids,\n",
        "                               attention_mask=attention_mask,\n",
        "                               token_type_ids=token_type_ids)\n",
        "        x = h[:, 0]\n",
        "        x = F.relu(self.hidden(x))\n",
        "        x = self.predict(x)\n",
        "        return x, attn\n",
        "\n",
        "\n",
        "class EnsembleModel(nn.Module):\n",
        "    def __init__(self,\n",
        "                 regression_model,\n",
        "                 classification_model,\n",
        "                 combined_input_size,\n",
        "                 n_hidden, n_output):\n",
        "        super(EnsembleModel, self).__init__()\n",
        "        self.modelA = regression_model\n",
        "        self.modelB = classification_model\n",
        "        self.hidden = nn.Linear(combined_input_size, n_hidden)\n",
        "        self.classifier = nn.Linear(n_hidden, n_output)\n",
        "        \n",
        "    def forward(self, input_ids, attention_mask, token_type_ids):\n",
        "        x1, attn1 = self.modelA(input_ids=input_ids,\n",
        "                               attention_mask=attention_mask,\n",
        "                               token_type_ids=token_type_ids)\n",
        "        x2, attn2 = self.modelB(input_ids=input_ids,\n",
        "                               attention_mask=attention_mask,\n",
        "                               token_type_ids=token_type_ids)\n",
        "        x = torch.cat((x1, x2), dim=1)\n",
        "        x = F.relu(self.hidden(x))\n",
        "        x = self.classifier(x)\n",
        "        return x"
      ],
      "execution_count": 0,
      "outputs": []
    },
    {
      "cell_type": "code",
      "metadata": {
        "id": "XZJ4ApAT69DR",
        "colab_type": "code",
        "colab": {}
      },
      "source": [
        "# Model Parameters #\n",
        "\n",
        "r_n_hidden = 128\n",
        "\n",
        "c_n_hidden = 256\n",
        "c_n_output = 7\n",
        "\n",
        "e_n_input = c_n_output + 1\n",
        "e_n_hidden = 5\n",
        "e_n_output = 2"
      ],
      "execution_count": 0,
      "outputs": []
    },
    {
      "cell_type": "code",
      "metadata": {
        "id": "x8P4ey7D6QY2",
        "colab_type": "code",
        "colab": {}
      },
      "source": [
        "# Instanciation of Models\n",
        "\n",
        "regression_model = SentimentRegressionModel(bert, r_n_hidden)\n",
        "classification_model = EmotionClassificationModel(bert, c_n_hidden, c_n_output)"
      ],
      "execution_count": 0,
      "outputs": []
    },
    {
      "cell_type": "code",
      "metadata": {
        "id": "kjyWLdu56npK",
        "colab_type": "code",
        "colab": {}
      },
      "source": [
        "# Regresion Training\n",
        "\n",
        "optimizer = torch.optim.SGD(regression_model.parameters(), lr=0.2)\n",
        "loss_func = torch.nn.MSELoss()\n",
        "\n",
        "for epoch in range(2):  # loop over the dataset multiple times\n",
        "\n",
        "    running_loss = 0.0\n",
        "    for i, data in enumerate(trainloader, 0):\n",
        "        # get the inputs; data is a list of [inputs, labels]\n",
        "        inputs, labels = data\n",
        "\n",
        "        # zero the parameter gradients\n",
        "        optimizer.zero_grad()\n",
        "\n",
        "        # forward + backward + optimize\n",
        "        outputs = net(inputs)\n",
        "        loss = loss_func(outputs, labels)\n",
        "        loss.backward()\n",
        "        optimizer.step()\n",
        "\n",
        "        # print statistics\n",
        "        running_loss += loss.item()\n",
        "        if i % 2000 == 1999:    # print every 2000 mini-batches\n",
        "            print('[%d, %5d] loss: %.3f' %\n",
        "                  (epoch + 1, i + 1, running_loss / 2000))\n",
        "            running_loss = 0.0\n",
        "\n",
        "print('Finished Training')"
      ],
      "execution_count": 0,
      "outputs": []
    },
    {
      "cell_type": "code",
      "metadata": {
        "id": "YrLIbH0xfx_A",
        "colab_type": "code",
        "colab": {}
      },
      "source": [
        "# Classification Training\n",
        "\n",
        "optimizer = torch.optim.SGD(classification_model.parameters(), lr=0.2)\n",
        "loss_func = torch.nn.MSELoss()"
      ],
      "execution_count": 0,
      "outputs": []
    },
    {
      "cell_type": "code",
      "metadata": {
        "id": "aoUzFqTA6c8I",
        "colab_type": "code",
        "colab": {}
      },
      "source": [
        "# Save Model State\n",
        "\n",
        "torch.save(regression_model.state_dict(), '/content/regressionModel/saveState')\n",
        "torch.save(classification_model.state_dict(), '/content/classificationModel/saveState')"
      ],
      "execution_count": 0,
      "outputs": []
    },
    {
      "cell_type": "code",
      "metadata": {
        "id": "j6LD8eLM5oAx",
        "colab_type": "code",
        "colab": {}
      },
      "source": [
        "regression_model = SentimentRegressionModel(bert, r_n_hidden)\n",
        "classification_model = EmotionClassificationModel(bert, c_n_hidden, c_n_output)\n",
        "\n",
        "regression_model.load_state_dict(torch.load('/content/regressionModel/saveState'))\n",
        "classification_model.load_state_dict(torch.load('/content/classificationModel/saveState'))"
      ],
      "execution_count": 0,
      "outputs": []
    },
    {
      "cell_type": "code",
      "metadata": {
        "id": "wb-VcQp-6TfS",
        "colab_type": "code",
        "colab": {}
      },
      "source": [
        "ensemble_model = EnsembleModel(regression_model, classification_model, e_n_input, e_n_hidden, e_n_output)"
      ],
      "execution_count": 0,
      "outputs": []
    },
    {
      "cell_type": "code",
      "metadata": {
        "id": "VwTCWqQ2fjpu",
        "colab_type": "code",
        "colab": {}
      },
      "source": [
        "torch.save(ensemble_model.state_dict(), '/content/ensembleModel/saveState')"
      ],
      "execution_count": 0,
      "outputs": []
    },
    {
      "cell_type": "code",
      "metadata": {
        "id": "Sdao9iFWfbFJ",
        "colab_type": "code",
        "colab": {}
      },
      "source": [
        "ensemble_model.load_state_dict(torch.load('/content/ensembleModel/saveState'))"
      ],
      "execution_count": 0,
      "outputs": []
    }
  ]
}